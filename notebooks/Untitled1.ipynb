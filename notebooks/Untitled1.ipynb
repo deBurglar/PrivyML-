{
 "cells": [
  {
   "cell_type": "code",
   "execution_count": 1,
   "id": "e97e05d7-9862-4055-9fd0-5dc0745e09df",
   "metadata": {},
   "outputs": [
    {
     "name": "stdout",
     "output_type": "stream",
     "text": [
      "Collecting ipynbname\n",
      "  Downloading ipynbname-2024.1.0.0-py3-none-any.whl.metadata (1.9 kB)\n",
      "Requirement already satisfied: ipykernel in c:\\users\\shrey\\miniconda3\\lib\\site-packages (from ipynbname) (6.29.5)\n",
      "Requirement already satisfied: comm>=0.1.1 in c:\\users\\shrey\\miniconda3\\lib\\site-packages (from ipykernel->ipynbname) (0.2.1)\n",
      "Requirement already satisfied: debugpy>=1.6.5 in c:\\users\\shrey\\miniconda3\\lib\\site-packages (from ipykernel->ipynbname) (1.8.11)\n",
      "Requirement already satisfied: ipython>=7.23.1 in c:\\users\\shrey\\miniconda3\\lib\\site-packages (from ipykernel->ipynbname) (9.1.0)\n",
      "Requirement already satisfied: jupyter-client>=6.1.12 in c:\\users\\shrey\\miniconda3\\lib\\site-packages (from ipykernel->ipynbname) (8.6.3)\n",
      "Requirement already satisfied: jupyter-core!=5.0.*,>=4.12 in c:\\users\\shrey\\miniconda3\\lib\\site-packages (from ipykernel->ipynbname) (5.7.2)\n",
      "Requirement already satisfied: matplotlib-inline>=0.1 in c:\\users\\shrey\\miniconda3\\lib\\site-packages (from ipykernel->ipynbname) (0.1.6)\n",
      "Requirement already satisfied: nest-asyncio in c:\\users\\shrey\\miniconda3\\lib\\site-packages (from ipykernel->ipynbname) (1.6.0)\n",
      "Requirement already satisfied: packaging in c:\\users\\shrey\\miniconda3\\lib\\site-packages (from ipykernel->ipynbname) (24.2)\n",
      "Requirement already satisfied: psutil in c:\\users\\shrey\\miniconda3\\lib\\site-packages (from ipykernel->ipynbname) (5.9.0)\n",
      "Requirement already satisfied: pyzmq>=24 in c:\\users\\shrey\\miniconda3\\lib\\site-packages (from ipykernel->ipynbname) (26.2.0)\n",
      "Requirement already satisfied: tornado>=6.1 in c:\\users\\shrey\\miniconda3\\lib\\site-packages (from ipykernel->ipynbname) (6.5.1)\n",
      "Requirement already satisfied: traitlets>=5.4.0 in c:\\users\\shrey\\miniconda3\\lib\\site-packages (from ipykernel->ipynbname) (5.14.3)\n",
      "Requirement already satisfied: colorama in c:\\users\\shrey\\miniconda3\\lib\\site-packages (from ipython>=7.23.1->ipykernel->ipynbname) (0.4.6)\n",
      "Requirement already satisfied: decorator in c:\\users\\shrey\\miniconda3\\lib\\site-packages (from ipython>=7.23.1->ipykernel->ipynbname) (5.1.1)\n",
      "Requirement already satisfied: ipython-pygments-lexers in c:\\users\\shrey\\miniconda3\\lib\\site-packages (from ipython>=7.23.1->ipykernel->ipynbname) (1.1.1)\n",
      "Requirement already satisfied: jedi>=0.16 in c:\\users\\shrey\\miniconda3\\lib\\site-packages (from ipython>=7.23.1->ipykernel->ipynbname) (0.19.2)\n",
      "Requirement already satisfied: prompt_toolkit<3.1.0,>=3.0.41 in c:\\users\\shrey\\miniconda3\\lib\\site-packages (from ipython>=7.23.1->ipykernel->ipynbname) (3.0.43)\n",
      "Requirement already satisfied: pygments>=2.4.0 in c:\\users\\shrey\\miniconda3\\lib\\site-packages (from ipython>=7.23.1->ipykernel->ipynbname) (2.19.1)\n",
      "Requirement already satisfied: stack_data in c:\\users\\shrey\\miniconda3\\lib\\site-packages (from ipython>=7.23.1->ipykernel->ipynbname) (0.2.0)\n",
      "Requirement already satisfied: python-dateutil>=2.8.2 in c:\\users\\shrey\\miniconda3\\lib\\site-packages (from jupyter-client>=6.1.12->ipykernel->ipynbname) (2.9.0.post0)\n",
      "Requirement already satisfied: platformdirs>=2.5 in c:\\users\\shrey\\miniconda3\\lib\\site-packages (from jupyter-core!=5.0.*,>=4.12->ipykernel->ipynbname) (4.3.7)\n",
      "Requirement already satisfied: pywin32>=300 in c:\\users\\shrey\\miniconda3\\lib\\site-packages (from jupyter-core!=5.0.*,>=4.12->ipykernel->ipynbname) (308)\n",
      "Requirement already satisfied: parso<0.9.0,>=0.8.4 in c:\\users\\shrey\\miniconda3\\lib\\site-packages (from jedi>=0.16->ipython>=7.23.1->ipykernel->ipynbname) (0.8.4)\n",
      "Requirement already satisfied: wcwidth in c:\\users\\shrey\\miniconda3\\lib\\site-packages (from prompt_toolkit<3.1.0,>=3.0.41->ipython>=7.23.1->ipykernel->ipynbname) (0.2.5)\n",
      "Requirement already satisfied: six>=1.5 in c:\\users\\shrey\\miniconda3\\lib\\site-packages (from python-dateutil>=2.8.2->jupyter-client>=6.1.12->ipykernel->ipynbname) (1.17.0)\n",
      "Requirement already satisfied: executing in c:\\users\\shrey\\miniconda3\\lib\\site-packages (from stack_data->ipython>=7.23.1->ipykernel->ipynbname) (0.8.3)\n",
      "Requirement already satisfied: asttokens in c:\\users\\shrey\\miniconda3\\lib\\site-packages (from stack_data->ipython>=7.23.1->ipykernel->ipynbname) (3.0.0)\n",
      "Requirement already satisfied: pure-eval in c:\\users\\shrey\\miniconda3\\lib\\site-packages (from stack_data->ipython>=7.23.1->ipykernel->ipynbname) (0.2.2)\n",
      "Downloading ipynbname-2024.1.0.0-py3-none-any.whl (4.3 kB)\n",
      "Installing collected packages: ipynbname\n",
      "Successfully installed ipynbname-2024.1.0.0\n",
      "Note: you may need to restart the kernel to use updated packages.\n"
     ]
    }
   ],
   "source": [
    "pip install ipynbname\n"
   ]
  },
  {
   "cell_type": "code",
   "execution_count": 2,
   "id": "5c1f1159-122e-4fc9-b4ff-ae23bf216f69",
   "metadata": {},
   "outputs": [
    {
     "name": "stdout",
     "output_type": "stream",
     "text": [
      "Notebook Full Path: C:\\Users\\shrey\\OneDrive\\Documents\\emp-access-prediction\\notebooks\\Untitled1.ipynb\n",
      "Notebook Folder: C:\\Users\\shrey\\OneDrive\\Documents\\emp-access-prediction\\notebooks\n"
     ]
    }
   ],
   "source": [
    "import os\n",
    "import ipynbname\n",
    "\n",
    "nb_path = ipynbname.path()\n",
    "print(\"Notebook Full Path:\", nb_path)\n",
    "print(\"Notebook Folder:\", nb_path.parent)\n"
   ]
  },
  {
   "cell_type": "code",
   "execution_count": null,
   "id": "d06b0802-4e20-46e7-85fc-c29947a4b8f3",
   "metadata": {},
   "outputs": [],
   "source": []
  }
 ],
 "metadata": {
  "kernelspec": {
   "display_name": "Python 3 (ipykernel)",
   "language": "python",
   "name": "python3"
  },
  "language_info": {
   "codemirror_mode": {
    "name": "ipython",
    "version": 3
   },
   "file_extension": ".py",
   "mimetype": "text/x-python",
   "name": "python",
   "nbconvert_exporter": "python",
   "pygments_lexer": "ipython3",
   "version": "3.13.2"
  }
 },
 "nbformat": 4,
 "nbformat_minor": 5
}
