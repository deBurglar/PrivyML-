{
 "cells": [
  {
   "cell_type": "code",
   "execution_count": null,
   "id": "59c0ec0e-9c8b-4172-b886-6f8e68a5c109",
   "metadata": {},
   "outputs": [],
   "source": []
  }
 ],
 "metadata": {
  "kernelspec": {
   "display_name": "",
   "name": ""
  },
  "language_info": {
   "name": ""
  }
 },
 "nbformat": 4,
 "nbformat_minor": 5
}
