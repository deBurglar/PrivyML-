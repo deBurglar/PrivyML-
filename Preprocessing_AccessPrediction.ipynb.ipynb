{
 "cells": [
  {
   "cell_type": "code",
   "execution_count": 25,
   "id": "e97e05d7-9862-4055-9fd0-5dc0745e09df",
   "metadata": {},
   "outputs": [
    {
     "name": "stdout",
     "output_type": "stream",
     "text": [
      "Requirement already satisfied: ipynbname in c:\\users\\shrey\\miniconda3\\lib\\site-packages (2024.1.0.0)\n",
      "Requirement already satisfied: ipykernel in c:\\users\\shrey\\miniconda3\\lib\\site-packages (from ipynbname) (6.29.5)\n",
      "Requirement already satisfied: comm>=0.1.1 in c:\\users\\shrey\\miniconda3\\lib\\site-packages (from ipykernel->ipynbname) (0.2.1)\n",
      "Requirement already satisfied: debugpy>=1.6.5 in c:\\users\\shrey\\miniconda3\\lib\\site-packages (from ipykernel->ipynbname) (1.8.11)\n",
      "Requirement already satisfied: ipython>=7.23.1 in c:\\users\\shrey\\miniconda3\\lib\\site-packages (from ipykernel->ipynbname) (9.1.0)\n",
      "Requirement already satisfied: jupyter-client>=6.1.12 in c:\\users\\shrey\\miniconda3\\lib\\site-packages (from ipykernel->ipynbname) (8.6.3)\n",
      "Requirement already satisfied: jupyter-core!=5.0.*,>=4.12 in c:\\users\\shrey\\miniconda3\\lib\\site-packages (from ipykernel->ipynbname) (5.7.2)\n",
      "Requirement already satisfied: matplotlib-inline>=0.1 in c:\\users\\shrey\\miniconda3\\lib\\site-packages (from ipykernel->ipynbname) (0.1.6)\n",
      "Requirement already satisfied: nest-asyncio in c:\\users\\shrey\\miniconda3\\lib\\site-packages (from ipykernel->ipynbname) (1.6.0)\n",
      "Requirement already satisfied: packaging in c:\\users\\shrey\\miniconda3\\lib\\site-packages (from ipykernel->ipynbname) (24.2)\n",
      "Requirement already satisfied: psutil in c:\\users\\shrey\\miniconda3\\lib\\site-packages (from ipykernel->ipynbname) (5.9.0)\n",
      "Requirement already satisfied: pyzmq>=24 in c:\\users\\shrey\\miniconda3\\lib\\site-packages (from ipykernel->ipynbname) (26.2.0)\n",
      "Requirement already satisfied: tornado>=6.1 in c:\\users\\shrey\\miniconda3\\lib\\site-packages (from ipykernel->ipynbname) (6.5.1)\n",
      "Requirement already satisfied: traitlets>=5.4.0 in c:\\users\\shrey\\miniconda3\\lib\\site-packages (from ipykernel->ipynbname) (5.14.3)\n",
      "Requirement already satisfied: colorama in c:\\users\\shrey\\miniconda3\\lib\\site-packages (from ipython>=7.23.1->ipykernel->ipynbname) (0.4.6)\n",
      "Requirement already satisfied: decorator in c:\\users\\shrey\\miniconda3\\lib\\site-packages (from ipython>=7.23.1->ipykernel->ipynbname) (5.1.1)\n",
      "Requirement already satisfied: ipython-pygments-lexers in c:\\users\\shrey\\miniconda3\\lib\\site-packages (from ipython>=7.23.1->ipykernel->ipynbname) (1.1.1)\n",
      "Requirement already satisfied: jedi>=0.16 in c:\\users\\shrey\\miniconda3\\lib\\site-packages (from ipython>=7.23.1->ipykernel->ipynbname) (0.19.2)\n",
      "Requirement already satisfied: prompt_toolkit<3.1.0,>=3.0.41 in c:\\users\\shrey\\miniconda3\\lib\\site-packages (from ipython>=7.23.1->ipykernel->ipynbname) (3.0.43)\n",
      "Requirement already satisfied: pygments>=2.4.0 in c:\\users\\shrey\\miniconda3\\lib\\site-packages (from ipython>=7.23.1->ipykernel->ipynbname) (2.19.1)\n",
      "Requirement already satisfied: stack_data in c:\\users\\shrey\\miniconda3\\lib\\site-packages (from ipython>=7.23.1->ipykernel->ipynbname) (0.2.0)\n",
      "Requirement already satisfied: python-dateutil>=2.8.2 in c:\\users\\shrey\\miniconda3\\lib\\site-packages (from jupyter-client>=6.1.12->ipykernel->ipynbname) (2.9.0.post0)\n",
      "Requirement already satisfied: platformdirs>=2.5 in c:\\users\\shrey\\miniconda3\\lib\\site-packages (from jupyter-core!=5.0.*,>=4.12->ipykernel->ipynbname) (4.3.7)\n",
      "Requirement already satisfied: pywin32>=300 in c:\\users\\shrey\\miniconda3\\lib\\site-packages (from jupyter-core!=5.0.*,>=4.12->ipykernel->ipynbname) (308)\n",
      "Requirement already satisfied: parso<0.9.0,>=0.8.4 in c:\\users\\shrey\\miniconda3\\lib\\site-packages (from jedi>=0.16->ipython>=7.23.1->ipykernel->ipynbname) (0.8.4)\n",
      "Requirement already satisfied: wcwidth in c:\\users\\shrey\\miniconda3\\lib\\site-packages (from prompt_toolkit<3.1.0,>=3.0.41->ipython>=7.23.1->ipykernel->ipynbname) (0.2.5)\n",
      "Requirement already satisfied: six>=1.5 in c:\\users\\shrey\\miniconda3\\lib\\site-packages (from python-dateutil>=2.8.2->jupyter-client>=6.1.12->ipykernel->ipynbname) (1.17.0)\n",
      "Requirement already satisfied: executing in c:\\users\\shrey\\miniconda3\\lib\\site-packages (from stack_data->ipython>=7.23.1->ipykernel->ipynbname) (0.8.3)\n",
      "Requirement already satisfied: asttokens in c:\\users\\shrey\\miniconda3\\lib\\site-packages (from stack_data->ipython>=7.23.1->ipykernel->ipynbname) (3.0.0)\n",
      "Requirement already satisfied: pure-eval in c:\\users\\shrey\\miniconda3\\lib\\site-packages (from stack_data->ipython>=7.23.1->ipykernel->ipynbname) (0.2.2)\n",
      "Note: you may need to restart the kernel to use updated packages.\n"
     ]
    }
   ],
   "source": [
    "pip install ipynbname\n"
   ]
  },
  {
   "cell_type": "code",
   "execution_count": 26,
   "id": "5c1f1159-122e-4fc9-b4ff-ae23bf216f69",
   "metadata": {},
   "outputs": [
    {
     "name": "stdout",
     "output_type": "stream",
     "text": [
      "Notebook Full Path: C:\\Users\\shrey\\OneDrive\\Documents\\emp-access-prediction\\Preprocessing_AccessPrediction.ipynb.ipynb\n",
      "Notebook Folder: C:\\Users\\shrey\\OneDrive\\Documents\\emp-access-prediction\n"
     ]
    }
   ],
   "source": [
    "import os\n",
    "import ipynbname\n",
    "\n",
    "nb_path = ipynbname.path()\n",
    "print(\"Notebook Full Path:\", nb_path)\n",
    "print(\"Notebook Folder:\", nb_path.parent)\n"
   ]
  },
  {
   "cell_type": "code",
   "execution_count": 27,
   "id": "d06b0802-4e20-46e7-85fc-c29947a4b8f3",
   "metadata": {},
   "outputs": [
    {
     "name": "stdout",
     "output_type": "stream",
     "text": [
      "Notebook Full Path: C:\\Users\\shrey\\OneDrive\\Documents\\emp-access-prediction\\Preprocessing_AccessPrediction.ipynb.ipynb\n",
      "Notebook Folder: C:\\Users\\shrey\\OneDrive\\Documents\\emp-access-prediction\n"
     ]
    }
   ],
   "source": [
    "import ipynbname\n",
    "nb_path = ipynbname.path()\n",
    "print(\"Notebook Full Path:\", nb_path)\n",
    "print(\"Notebook Folder:\", nb_path.parent)"
   ]
  },
  {
   "cell_type": "code",
   "execution_count": 28,
   "id": "efb7a005-c8ed-46ad-acd0-5d9e49e267e0",
   "metadata": {},
   "outputs": [
    {
     "data": {
      "text/html": [
       "<div>\n",
       "<style scoped>\n",
       "    .dataframe tbody tr th:only-of-type {\n",
       "        vertical-align: middle;\n",
       "    }\n",
       "\n",
       "    .dataframe tbody tr th {\n",
       "        vertical-align: top;\n",
       "    }\n",
       "\n",
       "    .dataframe thead th {\n",
       "        text-align: right;\n",
       "    }\n",
       "</style>\n",
       "<table border=\"1\" class=\"dataframe\">\n",
       "  <thead>\n",
       "    <tr style=\"text-align: right;\">\n",
       "      <th></th>\n",
       "      <th>ACTION</th>\n",
       "      <th>RESOURCE</th>\n",
       "      <th>MGR_ID</th>\n",
       "      <th>ROLE_ROLLUP_1</th>\n",
       "      <th>ROLE_ROLLUP_2</th>\n",
       "      <th>ROLE_DEPTNAME</th>\n",
       "      <th>ROLE_TITLE</th>\n",
       "      <th>ROLE_FAMILY_DESC</th>\n",
       "      <th>ROLE_FAMILY</th>\n",
       "      <th>ROLE_CODE</th>\n",
       "    </tr>\n",
       "  </thead>\n",
       "  <tbody>\n",
       "    <tr>\n",
       "      <th>0</th>\n",
       "      <td>1</td>\n",
       "      <td>39353</td>\n",
       "      <td>85475</td>\n",
       "      <td>117961</td>\n",
       "      <td>118300</td>\n",
       "      <td>123472</td>\n",
       "      <td>117905</td>\n",
       "      <td>117906</td>\n",
       "      <td>290919</td>\n",
       "      <td>117908</td>\n",
       "    </tr>\n",
       "    <tr>\n",
       "      <th>1</th>\n",
       "      <td>1</td>\n",
       "      <td>17183</td>\n",
       "      <td>1540</td>\n",
       "      <td>117961</td>\n",
       "      <td>118343</td>\n",
       "      <td>123125</td>\n",
       "      <td>118536</td>\n",
       "      <td>118536</td>\n",
       "      <td>308574</td>\n",
       "      <td>118539</td>\n",
       "    </tr>\n",
       "    <tr>\n",
       "      <th>2</th>\n",
       "      <td>1</td>\n",
       "      <td>36724</td>\n",
       "      <td>14457</td>\n",
       "      <td>118219</td>\n",
       "      <td>118220</td>\n",
       "      <td>117884</td>\n",
       "      <td>117879</td>\n",
       "      <td>267952</td>\n",
       "      <td>19721</td>\n",
       "      <td>117880</td>\n",
       "    </tr>\n",
       "    <tr>\n",
       "      <th>3</th>\n",
       "      <td>1</td>\n",
       "      <td>36135</td>\n",
       "      <td>5396</td>\n",
       "      <td>117961</td>\n",
       "      <td>118343</td>\n",
       "      <td>119993</td>\n",
       "      <td>118321</td>\n",
       "      <td>240983</td>\n",
       "      <td>290919</td>\n",
       "      <td>118322</td>\n",
       "    </tr>\n",
       "    <tr>\n",
       "      <th>4</th>\n",
       "      <td>1</td>\n",
       "      <td>42680</td>\n",
       "      <td>5905</td>\n",
       "      <td>117929</td>\n",
       "      <td>117930</td>\n",
       "      <td>119569</td>\n",
       "      <td>119323</td>\n",
       "      <td>123932</td>\n",
       "      <td>19793</td>\n",
       "      <td>119325</td>\n",
       "    </tr>\n",
       "  </tbody>\n",
       "</table>\n",
       "</div>"
      ],
      "text/plain": [
       "   ACTION  RESOURCE  MGR_ID  ROLE_ROLLUP_1  ROLE_ROLLUP_2  ROLE_DEPTNAME  \\\n",
       "0       1     39353   85475         117961         118300         123472   \n",
       "1       1     17183    1540         117961         118343         123125   \n",
       "2       1     36724   14457         118219         118220         117884   \n",
       "3       1     36135    5396         117961         118343         119993   \n",
       "4       1     42680    5905         117929         117930         119569   \n",
       "\n",
       "   ROLE_TITLE  ROLE_FAMILY_DESC  ROLE_FAMILY  ROLE_CODE  \n",
       "0      117905            117906       290919     117908  \n",
       "1      118536            118536       308574     118539  \n",
       "2      117879            267952        19721     117880  \n",
       "3      118321            240983       290919     118322  \n",
       "4      119323            123932        19793     119325  "
      ]
     },
     "execution_count": 28,
     "metadata": {},
     "output_type": "execute_result"
    }
   ],
   "source": [
    "import pandas as pd\n",
    "\n",
    "df = pd.read_csv(\"data/train.csv\")\n",
    "df.head()\n"
   ]
  },
  {
   "cell_type": "code",
   "execution_count": 29,
   "id": "34abe221-d7a0-4582-90c9-ecf7b69474c0",
   "metadata": {},
   "outputs": [
    {
     "name": "stdout",
     "output_type": "stream",
     "text": [
      "Categorical Features: []\n"
     ]
    }
   ],
   "source": [
    "cat_features = [col for col in df.columns if df[col].dtype == 'object']\n",
    "print(\"Categorical Features:\", cat_features)\n"
   ]
  },
  {
   "cell_type": "code",
   "execution_count": 30,
   "id": "979346bc-eb4e-4be0-ba73-7f6f6171da81",
   "metadata": {},
   "outputs": [
    {
     "name": "stdout",
     "output_type": "stream",
     "text": [
      "['ACTION', 'RESOURCE', 'MGR_ID', 'ROLE_ROLLUP_1', 'ROLE_ROLLUP_2', 'ROLE_DEPTNAME', 'ROLE_TITLE', 'ROLE_FAMILY_DESC', 'ROLE_FAMILY', 'ROLE_CODE']\n"
     ]
    }
   ],
   "source": [
    "print(df.columns.tolist())\n"
   ]
  },
  {
   "cell_type": "code",
   "execution_count": 31,
   "id": "75904a94-b0b9-4b80-b3fa-a368eda1040c",
   "metadata": {},
   "outputs": [],
   "source": [
    "cat_features = [col for col in df.columns if df[col].dtype == 'object' and col != 'ACTION']\n"
   ]
  },
  {
   "cell_type": "code",
   "execution_count": 32,
   "id": "0b670f04-7c58-4e13-ac6f-aef3decc8d91",
   "metadata": {},
   "outputs": [],
   "source": [
    "from sklearn.preprocessing import LabelEncoder\n",
    "\n",
    "df_le = df.copy()\n",
    "le = LabelEncoder()\n",
    "\n",
    "for col in cat_features:\n",
    "    df_le[col] = le.fit_transform(df_le[col])\n"
   ]
  },
  {
   "cell_type": "code",
   "execution_count": 33,
   "id": "0818e84e-b4ee-4978-b5dc-b6227475836d",
   "metadata": {},
   "outputs": [
    {
     "data": {
      "text/html": [
       "<div>\n",
       "<style scoped>\n",
       "    .dataframe tbody tr th:only-of-type {\n",
       "        vertical-align: middle;\n",
       "    }\n",
       "\n",
       "    .dataframe tbody tr th {\n",
       "        vertical-align: top;\n",
       "    }\n",
       "\n",
       "    .dataframe thead th {\n",
       "        text-align: right;\n",
       "    }\n",
       "</style>\n",
       "<table border=\"1\" class=\"dataframe\">\n",
       "  <thead>\n",
       "    <tr style=\"text-align: right;\">\n",
       "      <th></th>\n",
       "      <th>ACTION</th>\n",
       "      <th>RESOURCE</th>\n",
       "      <th>MGR_ID</th>\n",
       "      <th>ROLE_ROLLUP_1</th>\n",
       "      <th>ROLE_ROLLUP_2</th>\n",
       "      <th>ROLE_DEPTNAME</th>\n",
       "      <th>ROLE_TITLE</th>\n",
       "      <th>ROLE_FAMILY_DESC</th>\n",
       "      <th>ROLE_FAMILY</th>\n",
       "      <th>ROLE_CODE</th>\n",
       "    </tr>\n",
       "  </thead>\n",
       "  <tbody>\n",
       "    <tr>\n",
       "      <th>0</th>\n",
       "      <td>1</td>\n",
       "      <td>39353</td>\n",
       "      <td>85475</td>\n",
       "      <td>117961</td>\n",
       "      <td>118300</td>\n",
       "      <td>123472</td>\n",
       "      <td>117905</td>\n",
       "      <td>117906</td>\n",
       "      <td>290919</td>\n",
       "      <td>117908</td>\n",
       "    </tr>\n",
       "    <tr>\n",
       "      <th>1</th>\n",
       "      <td>1</td>\n",
       "      <td>17183</td>\n",
       "      <td>1540</td>\n",
       "      <td>117961</td>\n",
       "      <td>118343</td>\n",
       "      <td>123125</td>\n",
       "      <td>118536</td>\n",
       "      <td>118536</td>\n",
       "      <td>308574</td>\n",
       "      <td>118539</td>\n",
       "    </tr>\n",
       "    <tr>\n",
       "      <th>2</th>\n",
       "      <td>1</td>\n",
       "      <td>36724</td>\n",
       "      <td>14457</td>\n",
       "      <td>118219</td>\n",
       "      <td>118220</td>\n",
       "      <td>117884</td>\n",
       "      <td>117879</td>\n",
       "      <td>267952</td>\n",
       "      <td>19721</td>\n",
       "      <td>117880</td>\n",
       "    </tr>\n",
       "    <tr>\n",
       "      <th>3</th>\n",
       "      <td>1</td>\n",
       "      <td>36135</td>\n",
       "      <td>5396</td>\n",
       "      <td>117961</td>\n",
       "      <td>118343</td>\n",
       "      <td>119993</td>\n",
       "      <td>118321</td>\n",
       "      <td>240983</td>\n",
       "      <td>290919</td>\n",
       "      <td>118322</td>\n",
       "    </tr>\n",
       "    <tr>\n",
       "      <th>4</th>\n",
       "      <td>1</td>\n",
       "      <td>42680</td>\n",
       "      <td>5905</td>\n",
       "      <td>117929</td>\n",
       "      <td>117930</td>\n",
       "      <td>119569</td>\n",
       "      <td>119323</td>\n",
       "      <td>123932</td>\n",
       "      <td>19793</td>\n",
       "      <td>119325</td>\n",
       "    </tr>\n",
       "  </tbody>\n",
       "</table>\n",
       "</div>"
      ],
      "text/plain": [
       "   ACTION  RESOURCE  MGR_ID  ROLE_ROLLUP_1  ROLE_ROLLUP_2  ROLE_DEPTNAME  \\\n",
       "0       1     39353   85475         117961         118300         123472   \n",
       "1       1     17183    1540         117961         118343         123125   \n",
       "2       1     36724   14457         118219         118220         117884   \n",
       "3       1     36135    5396         117961         118343         119993   \n",
       "4       1     42680    5905         117929         117930         119569   \n",
       "\n",
       "   ROLE_TITLE  ROLE_FAMILY_DESC  ROLE_FAMILY  ROLE_CODE  \n",
       "0      117905            117906       290919     117908  \n",
       "1      118536            118536       308574     118539  \n",
       "2      117879            267952        19721     117880  \n",
       "3      118321            240983       290919     118322  \n",
       "4      119323            123932        19793     119325  "
      ]
     },
     "execution_count": 33,
     "metadata": {},
     "output_type": "execute_result"
    }
   ],
   "source": [
    "df_le.head()"
   ]
  },
  {
   "cell_type": "code",
   "execution_count": 34,
   "id": "e469081e-4495-4d21-829f-78d4b255a71b",
   "metadata": {},
   "outputs": [
    {
     "name": "stdout",
     "output_type": "stream",
     "text": [
      "Original shape: (32769, 10)\n",
      "One-hot encoded shape: (32769, 10)\n"
     ]
    }
   ],
   "source": [
    "df_ohprep = df.copy()\n",
    "\n",
    "# Convert known categorical columns to object type\n",
    "for col in cat_features:\n",
    "    df_ohprep[col] = df_ohprep[col].astype('object')\n",
    "\n",
    "# Now apply one-hot encoding\n",
    "df_oh = pd.get_dummies(df_ohprep, columns=cat_features, drop_first=True)\n",
    "\n",
    "# Check the shape\n",
    "print(\"Original shape:\", df.shape)\n",
    "print(\"One-hot encoded shape:\", df_oh.shape)\n"
   ]
  },
  {
   "cell_type": "code",
   "execution_count": 35,
   "id": "f4432675-561e-49c1-825c-f976815fd24f",
   "metadata": {},
   "outputs": [
    {
     "data": {
      "text/html": [
       "<div>\n",
       "<style scoped>\n",
       "    .dataframe tbody tr th:only-of-type {\n",
       "        vertical-align: middle;\n",
       "    }\n",
       "\n",
       "    .dataframe tbody tr th {\n",
       "        vertical-align: top;\n",
       "    }\n",
       "\n",
       "    .dataframe thead th {\n",
       "        text-align: right;\n",
       "    }\n",
       "</style>\n",
       "<table border=\"1\" class=\"dataframe\">\n",
       "  <thead>\n",
       "    <tr style=\"text-align: right;\">\n",
       "      <th></th>\n",
       "      <th>ACTION</th>\n",
       "      <th>RESOURCE</th>\n",
       "      <th>MGR_ID</th>\n",
       "      <th>ROLE_ROLLUP_1</th>\n",
       "      <th>ROLE_ROLLUP_2</th>\n",
       "      <th>ROLE_DEPTNAME</th>\n",
       "      <th>ROLE_TITLE</th>\n",
       "      <th>ROLE_FAMILY_DESC</th>\n",
       "      <th>ROLE_FAMILY</th>\n",
       "      <th>ROLE_CODE</th>\n",
       "    </tr>\n",
       "  </thead>\n",
       "  <tbody>\n",
       "    <tr>\n",
       "      <th>0</th>\n",
       "      <td>1</td>\n",
       "      <td>39353</td>\n",
       "      <td>85475</td>\n",
       "      <td>117961</td>\n",
       "      <td>118300</td>\n",
       "      <td>123472</td>\n",
       "      <td>117905</td>\n",
       "      <td>117906</td>\n",
       "      <td>290919</td>\n",
       "      <td>117908</td>\n",
       "    </tr>\n",
       "    <tr>\n",
       "      <th>1</th>\n",
       "      <td>1</td>\n",
       "      <td>17183</td>\n",
       "      <td>1540</td>\n",
       "      <td>117961</td>\n",
       "      <td>118343</td>\n",
       "      <td>123125</td>\n",
       "      <td>118536</td>\n",
       "      <td>118536</td>\n",
       "      <td>308574</td>\n",
       "      <td>118539</td>\n",
       "    </tr>\n",
       "    <tr>\n",
       "      <th>2</th>\n",
       "      <td>1</td>\n",
       "      <td>36724</td>\n",
       "      <td>14457</td>\n",
       "      <td>118219</td>\n",
       "      <td>118220</td>\n",
       "      <td>117884</td>\n",
       "      <td>117879</td>\n",
       "      <td>267952</td>\n",
       "      <td>19721</td>\n",
       "      <td>117880</td>\n",
       "    </tr>\n",
       "    <tr>\n",
       "      <th>3</th>\n",
       "      <td>1</td>\n",
       "      <td>36135</td>\n",
       "      <td>5396</td>\n",
       "      <td>117961</td>\n",
       "      <td>118343</td>\n",
       "      <td>119993</td>\n",
       "      <td>118321</td>\n",
       "      <td>240983</td>\n",
       "      <td>290919</td>\n",
       "      <td>118322</td>\n",
       "    </tr>\n",
       "    <tr>\n",
       "      <th>4</th>\n",
       "      <td>1</td>\n",
       "      <td>42680</td>\n",
       "      <td>5905</td>\n",
       "      <td>117929</td>\n",
       "      <td>117930</td>\n",
       "      <td>119569</td>\n",
       "      <td>119323</td>\n",
       "      <td>123932</td>\n",
       "      <td>19793</td>\n",
       "      <td>119325</td>\n",
       "    </tr>\n",
       "  </tbody>\n",
       "</table>\n",
       "</div>"
      ],
      "text/plain": [
       "   ACTION  RESOURCE  MGR_ID  ROLE_ROLLUP_1  ROLE_ROLLUP_2  ROLE_DEPTNAME  \\\n",
       "0       1     39353   85475         117961         118300         123472   \n",
       "1       1     17183    1540         117961         118343         123125   \n",
       "2       1     36724   14457         118219         118220         117884   \n",
       "3       1     36135    5396         117961         118343         119993   \n",
       "4       1     42680    5905         117929         117930         119569   \n",
       "\n",
       "   ROLE_TITLE  ROLE_FAMILY_DESC  ROLE_FAMILY  ROLE_CODE  \n",
       "0      117905            117906       290919     117908  \n",
       "1      118536            118536       308574     118539  \n",
       "2      117879            267952        19721     117880  \n",
       "3      118321            240983       290919     118322  \n",
       "4      119323            123932        19793     119325  "
      ]
     },
     "execution_count": 35,
     "metadata": {},
     "output_type": "execute_result"
    }
   ],
   "source": [
    "df_oh = pd.get_dummies(df, columns=cat_features, drop_first=True)\n",
    "df_oh.head()\n"
   ]
  },
  {
   "cell_type": "code",
   "execution_count": 36,
   "id": "b96aea93-eee8-4465-9e3c-be5cde122c00",
   "metadata": {},
   "outputs": [
    {
     "name": "stdout",
     "output_type": "stream",
     "text": [
      "<class 'pandas.core.frame.DataFrame'>\n",
      "RangeIndex: 32769 entries, 0 to 32768\n",
      "Data columns (total 10 columns):\n",
      " #   Column            Non-Null Count  Dtype\n",
      "---  ------            --------------  -----\n",
      " 0   ACTION            32769 non-null  int64\n",
      " 1   RESOURCE          32769 non-null  int64\n",
      " 2   MGR_ID            32769 non-null  int64\n",
      " 3   ROLE_ROLLUP_1     32769 non-null  int64\n",
      " 4   ROLE_ROLLUP_2     32769 non-null  int64\n",
      " 5   ROLE_DEPTNAME     32769 non-null  int64\n",
      " 6   ROLE_TITLE        32769 non-null  int64\n",
      " 7   ROLE_FAMILY_DESC  32769 non-null  int64\n",
      " 8   ROLE_FAMILY       32769 non-null  int64\n",
      " 9   ROLE_CODE         32769 non-null  int64\n",
      "dtypes: int64(10)\n",
      "memory usage: 2.5 MB\n"
     ]
    }
   ],
   "source": [
    "df_oh.info()"
   ]
  },
  {
   "cell_type": "code",
   "execution_count": 37,
   "id": "a56a2195-4f38-451c-82a5-9950ea98556b",
   "metadata": {},
   "outputs": [
    {
     "name": "stdout",
     "output_type": "stream",
     "text": [
      "Original shape: (32769, 10)\n",
      "One-hot encoded shape: (32769, 10)\n"
     ]
    }
   ],
   "source": [
    "print(\"Original shape:\", df.shape)\n",
    "print(\"One-hot encoded shape:\", df_oh.shape)\n"
   ]
  },
  {
   "cell_type": "code",
   "execution_count": 39,
   "id": "9402f6f7-5a02-4480-9bbe-a76eb5233f74",
   "metadata": {},
   "outputs": [
    {
     "name": "stdout",
     "output_type": "stream",
     "text": [
      "[]\n"
     ]
    }
   ],
   "source": [
    "print(cat_features)\n"
   ]
  },
  {
   "cell_type": "code",
   "execution_count": 40,
   "id": "74201a94-5f87-4eea-9da3-385b88c5dc80",
   "metadata": {},
   "outputs": [],
   "source": [
    "cat_features = [\n",
    "    'RESOURCE', 'MGR_ID', 'ROLE_ROLLUP_1', 'ROLE_ROLLUP_2',\n",
    "    'ROLE_DEPTNAME', 'ROLE_TITLE', 'ROLE_FAMILY_DESC',\n",
    "    'ROLE_FAMILY', 'ROLE_CODE'\n",
    "]\n"
   ]
  },
  {
   "cell_type": "code",
   "execution_count": 41,
   "id": "fe8b57b0-4251-4179-8ed5-67e6f39baa39",
   "metadata": {},
   "outputs": [
    {
     "name": "stdout",
     "output_type": "stream",
     "text": [
      "RESOURCE: 7518 unique values\n",
      "MGR_ID: 4243 unique values\n",
      "ROLE_ROLLUP_1: 128 unique values\n",
      "ROLE_ROLLUP_2: 177 unique values\n",
      "ROLE_DEPTNAME: 449 unique values\n",
      "ROLE_TITLE: 343 unique values\n",
      "ROLE_FAMILY_DESC: 2358 unique values\n",
      "ROLE_FAMILY: 67 unique values\n",
      "ROLE_CODE: 343 unique values\n"
     ]
    }
   ],
   "source": [
    "for col in cat_features:\n",
    "    print(f\"{col}: {df[col].nunique()} unique values\")\n"
   ]
  },
  {
   "cell_type": "code",
   "execution_count": 42,
   "id": "04095d49-f5ef-4fe2-9cee-ae36f7a5657b",
   "metadata": {},
   "outputs": [],
   "source": [
    "#splitting the cols to target encoding and label encoding depending upon the number of unique values they contain\n",
    "target_enc_cols = [\n",
    "    'RESOURCE', 'MGR_ID', 'ROLE_DEPTNAME',\n",
    "    'ROLE_TITLE', 'ROLE_FAMILY_DESC', 'ROLE_CODE'\n",
    "]\n",
    "\n",
    "label_enc_cols = [\n",
    "    'ROLE_ROLLUP_1', 'ROLE_ROLLUP_2', 'ROLE_FAMILY'\n",
    "]\n"
   ]
  },
  {
   "cell_type": "code",
   "execution_count": 43,
   "id": "81c0ad72-1e17-44f1-8855-61f857570950",
   "metadata": {},
   "outputs": [
    {
     "name": "stdout",
     "output_type": "stream",
     "text": [
      "Collecting category_encoders\n",
      "  Downloading category_encoders-2.8.1-py3-none-any.whl.metadata (7.9 kB)\n",
      "Requirement already satisfied: numpy>=1.14.0 in c:\\users\\shrey\\miniconda3\\lib\\site-packages (from category_encoders) (2.3.0)\n",
      "Requirement already satisfied: pandas>=1.0.5 in c:\\users\\shrey\\miniconda3\\lib\\site-packages (from category_encoders) (2.3.0)\n",
      "Collecting patsy>=0.5.1 (from category_encoders)\n",
      "  Downloading patsy-1.0.1-py2.py3-none-any.whl.metadata (3.3 kB)\n",
      "Requirement already satisfied: scikit-learn>=1.6.0 in c:\\users\\shrey\\miniconda3\\lib\\site-packages (from category_encoders) (1.7.0)\n",
      "Requirement already satisfied: scipy>=1.0.0 in c:\\users\\shrey\\miniconda3\\lib\\site-packages (from category_encoders) (1.15.3)\n",
      "Collecting statsmodels>=0.9.0 (from category_encoders)\n",
      "  Downloading statsmodels-0.14.4-cp313-cp313-win_amd64.whl.metadata (9.5 kB)\n",
      "Requirement already satisfied: python-dateutil>=2.8.2 in c:\\users\\shrey\\miniconda3\\lib\\site-packages (from pandas>=1.0.5->category_encoders) (2.9.0.post0)\n",
      "Requirement already satisfied: pytz>=2020.1 in c:\\users\\shrey\\miniconda3\\lib\\site-packages (from pandas>=1.0.5->category_encoders) (2025.2)\n",
      "Requirement already satisfied: tzdata>=2022.7 in c:\\users\\shrey\\miniconda3\\lib\\site-packages (from pandas>=1.0.5->category_encoders) (2025.2)\n",
      "Requirement already satisfied: joblib>=1.2.0 in c:\\users\\shrey\\miniconda3\\lib\\site-packages (from scikit-learn>=1.6.0->category_encoders) (1.5.1)\n",
      "Requirement already satisfied: threadpoolctl>=3.1.0 in c:\\users\\shrey\\miniconda3\\lib\\site-packages (from scikit-learn>=1.6.0->category_encoders) (3.6.0)\n",
      "Requirement already satisfied: packaging>=21.3 in c:\\users\\shrey\\miniconda3\\lib\\site-packages (from statsmodels>=0.9.0->category_encoders) (24.2)\n",
      "Requirement already satisfied: six>=1.5 in c:\\users\\shrey\\miniconda3\\lib\\site-packages (from python-dateutil>=2.8.2->pandas>=1.0.5->category_encoders) (1.17.0)\n",
      "Downloading category_encoders-2.8.1-py3-none-any.whl (85 kB)\n",
      "Downloading patsy-1.0.1-py2.py3-none-any.whl (232 kB)\n",
      "Downloading statsmodels-0.14.4-cp313-cp313-win_amd64.whl (9.8 MB)\n",
      "   ---------------------------------------- 0.0/9.8 MB ? eta -:--:--\n",
      "   ---- ----------------------------------- 1.0/9.8 MB 6.5 MB/s eta 0:00:02\n",
      "   ------- -------------------------------- 1.8/9.8 MB 5.2 MB/s eta 0:00:02\n",
      "   ----------- ---------------------------- 2.9/9.8 MB 4.9 MB/s eta 0:00:02\n",
      "   -------------- ------------------------- 3.7/9.8 MB 4.5 MB/s eta 0:00:02\n",
      "   ------------------- -------------------- 4.7/9.8 MB 4.7 MB/s eta 0:00:02\n",
      "   --------------------- ------------------ 5.2/9.8 MB 4.5 MB/s eta 0:00:02\n",
      "   ----------------------- ---------------- 5.8/9.8 MB 4.2 MB/s eta 0:00:01\n",
      "   ------------------------- -------------- 6.3/9.8 MB 3.9 MB/s eta 0:00:01\n",
      "   ---------------------------- ----------- 7.1/9.8 MB 3.8 MB/s eta 0:00:01\n",
      "   ------------------------------ --------- 7.6/9.8 MB 3.6 MB/s eta 0:00:01\n",
      "   --------------------------------- ------ 8.1/9.8 MB 3.5 MB/s eta 0:00:01\n",
      "   ----------------------------------- ---- 8.7/9.8 MB 3.4 MB/s eta 0:00:01\n",
      "   -------------------------------------- - 9.4/9.8 MB 3.4 MB/s eta 0:00:01\n",
      "   ---------------------------------------- 9.8/9.8 MB 3.4 MB/s eta 0:00:00\n",
      "Installing collected packages: patsy, statsmodels, category_encoders\n",
      "Successfully installed category_encoders-2.8.1 patsy-1.0.1 statsmodels-0.14.4\n"
     ]
    }
   ],
   "source": [
    "!pip install category_encoders"
   ]
  },
  {
   "cell_type": "code",
   "execution_count": 45,
   "id": "8eed8e84-4194-4d8c-99b9-cfe5dc52b9b3",
   "metadata": {},
   "outputs": [
    {
     "data": {
      "text/html": [
       "<div>\n",
       "<style scoped>\n",
       "    .dataframe tbody tr th:only-of-type {\n",
       "        vertical-align: middle;\n",
       "    }\n",
       "\n",
       "    .dataframe tbody tr th {\n",
       "        vertical-align: top;\n",
       "    }\n",
       "\n",
       "    .dataframe thead th {\n",
       "        text-align: right;\n",
       "    }\n",
       "</style>\n",
       "<table border=\"1\" class=\"dataframe\">\n",
       "  <thead>\n",
       "    <tr style=\"text-align: right;\">\n",
       "      <th></th>\n",
       "      <th>ACTION</th>\n",
       "      <th>RESOURCE</th>\n",
       "      <th>MGR_ID</th>\n",
       "      <th>ROLE_ROLLUP_1</th>\n",
       "      <th>ROLE_ROLLUP_2</th>\n",
       "      <th>ROLE_DEPTNAME</th>\n",
       "      <th>ROLE_TITLE</th>\n",
       "      <th>ROLE_FAMILY_DESC</th>\n",
       "      <th>ROLE_FAMILY</th>\n",
       "      <th>ROLE_CODE</th>\n",
       "    </tr>\n",
       "  </thead>\n",
       "  <tbody>\n",
       "    <tr>\n",
       "      <th>0</th>\n",
       "      <td>1</td>\n",
       "      <td>0.951052</td>\n",
       "      <td>0.998303</td>\n",
       "      <td>21</td>\n",
       "      <td>64</td>\n",
       "      <td>0.958244</td>\n",
       "      <td>0.967625</td>\n",
       "      <td>0.933440</td>\n",
       "      <td>64</td>\n",
       "      <td>0.967625</td>\n",
       "    </tr>\n",
       "    <tr>\n",
       "      <th>1</th>\n",
       "      <td>1</td>\n",
       "      <td>0.960062</td>\n",
       "      <td>0.957679</td>\n",
       "      <td>21</td>\n",
       "      <td>68</td>\n",
       "      <td>0.893082</td>\n",
       "      <td>0.962916</td>\n",
       "      <td>0.960057</td>\n",
       "      <td>66</td>\n",
       "      <td>0.962916</td>\n",
       "    </tr>\n",
       "    <tr>\n",
       "      <th>2</th>\n",
       "      <td>1</td>\n",
       "      <td>0.950322</td>\n",
       "      <td>0.951052</td>\n",
       "      <td>50</td>\n",
       "      <td>57</td>\n",
       "      <td>0.923077</td>\n",
       "      <td>0.889331</td>\n",
       "      <td>0.939976</td>\n",
       "      <td>3</td>\n",
       "      <td>0.889331</td>\n",
       "    </tr>\n",
       "    <tr>\n",
       "      <th>3</th>\n",
       "      <td>1</td>\n",
       "      <td>0.949642</td>\n",
       "      <td>0.999145</td>\n",
       "      <td>21</td>\n",
       "      <td>68</td>\n",
       "      <td>0.989474</td>\n",
       "      <td>0.920413</td>\n",
       "      <td>0.955788</td>\n",
       "      <td>64</td>\n",
       "      <td>0.920413</td>\n",
       "    </tr>\n",
       "    <tr>\n",
       "      <th>4</th>\n",
       "      <td>1</td>\n",
       "      <td>0.955510</td>\n",
       "      <td>0.956567</td>\n",
       "      <td>15</td>\n",
       "      <td>13</td>\n",
       "      <td>0.769707</td>\n",
       "      <td>0.866974</td>\n",
       "      <td>0.944608</td>\n",
       "      <td>4</td>\n",
       "      <td>0.866974</td>\n",
       "    </tr>\n",
       "  </tbody>\n",
       "</table>\n",
       "</div>"
      ],
      "text/plain": [
       "   ACTION  RESOURCE    MGR_ID  ROLE_ROLLUP_1  ROLE_ROLLUP_2  ROLE_DEPTNAME  \\\n",
       "0       1  0.951052  0.998303             21             64       0.958244   \n",
       "1       1  0.960062  0.957679             21             68       0.893082   \n",
       "2       1  0.950322  0.951052             50             57       0.923077   \n",
       "3       1  0.949642  0.999145             21             68       0.989474   \n",
       "4       1  0.955510  0.956567             15             13       0.769707   \n",
       "\n",
       "   ROLE_TITLE  ROLE_FAMILY_DESC  ROLE_FAMILY  ROLE_CODE  \n",
       "0    0.967625          0.933440           64   0.967625  \n",
       "1    0.962916          0.960057           66   0.962916  \n",
       "2    0.889331          0.939976            3   0.889331  \n",
       "3    0.920413          0.955788           64   0.920413  \n",
       "4    0.866974          0.944608            4   0.866974  "
      ]
     },
     "execution_count": 45,
     "metadata": {},
     "output_type": "execute_result"
    }
   ],
   "source": [
    "import category_encoders as ce\n",
    "\n",
    "df_te = df.copy()\n",
    "\n",
    "# Apply label encoding to low-cardinality cols\n",
    "from sklearn.preprocessing import LabelEncoder\n",
    "le = LabelEncoder()\n",
    "for col in label_enc_cols:\n",
    "    df_te[col] = le.fit_transform(df_te[col])\n",
    "\n",
    "# Apply target encoding to high-cardinality cols\n",
    "te = ce.TargetEncoder(cols=target_enc_cols)\n",
    "df_te[target_enc_cols] = te.fit_transform(df_te[target_enc_cols], df_te['ACTION'])\n",
    "\n",
    "df_te.head()"
   ]
  },
  {
   "cell_type": "code",
   "execution_count": 46,
   "id": "83c32195-a9f8-4105-a9ec-f7f3d29ce522",
   "metadata": {},
   "outputs": [],
   "source": [
    "#Feature Scaling\n",
    "from sklearn.preprocessing import StandardScaler\n",
    "\n",
    "# Drop target column and scale the features\n",
    "X = df_te.drop(columns=['ACTION'])\n",
    "y = df_te['ACTION']\n",
    "\n",
    "scaler = StandardScaler()\n",
    "X_scaled = scaler.fit_transform(X)\n"
   ]
  },
  {
   "cell_type": "code",
   "execution_count": 49,
   "id": "dfdf680a-811a-4e55-8e8a-993ed1008ed1",
   "metadata": {},
   "outputs": [
    {
     "name": "stdout",
     "output_type": "stream",
     "text": [
      "(32769, 10)\n",
      "   ACTION  RESOURCE  MGR_ID  ROLE_ROLLUP_1  ROLE_ROLLUP_2  ROLE_DEPTNAME  \\\n",
      "0       1     39353   85475         117961         118300         123472   \n",
      "1       1     17183    1540         117961         118343         123125   \n",
      "2       1     36724   14457         118219         118220         117884   \n",
      "3       1     36135    5396         117961         118343         119993   \n",
      "4       1     42680    5905         117929         117930         119569   \n",
      "\n",
      "   ROLE_TITLE  ROLE_FAMILY_DESC  ROLE_FAMILY  ROLE_CODE  \n",
      "0      117905            117906       290919     117908  \n",
      "1      118536            118536       308574     118539  \n",
      "2      117879            267952        19721     117880  \n",
      "3      118321            240983       290919     118322  \n",
      "4      119323            123932        19793     119325  \n"
     ]
    }
   ],
   "source": [
    "print(df_te.shape)\n",
    "print(df.head())\n"
   ]
  },
  {
   "cell_type": "code",
   "execution_count": 50,
   "id": "88f1c882-ccab-4912-8e9a-211b80cde74f",
   "metadata": {},
   "outputs": [],
   "source": [
    "df_encoded = df_te.copy()  # This creates the variable we expected\n"
   ]
  },
  {
   "cell_type": "code",
   "execution_count": 53,
   "id": "bd75864d-6c31-40d3-a25f-7e8ae947ca61",
   "metadata": {},
   "outputs": [],
   "source": [
    "#train test split\n",
    "from sklearn.model_selection import train_test_split\n",
    "\n",
    "X = df_encoded.drop(columns=['ACTION'])\n",
    "y = df_encoded['ACTION']\n",
    "\n",
    "X_train, X_val, y_train, y_val = train_test_split(\n",
    "    X, y, test_size=0.2, random_state=42, stratify=y\n",
    ")\n"
   ]
  },
  {
   "cell_type": "code",
   "execution_count": 57,
   "id": "3e460639-b4f3-451b-8804-5f04cdaf1fd6",
   "metadata": {},
   "outputs": [
    {
     "name": "stdout",
     "output_type": "stream",
     "text": [
      "Accuracy: 0.9491913335367714\n",
      "\n",
      "Classification Report:\n",
      "               precision    recall  f1-score   support\n",
      "\n",
      "           0       0.63      0.29      0.40       379\n",
      "           1       0.96      0.99      0.97      6175\n",
      "\n",
      "    accuracy                           0.95      6554\n",
      "   macro avg       0.80      0.64      0.68      6554\n",
      "weighted avg       0.94      0.95      0.94      6554\n",
      "\n"
     ]
    }
   ],
   "source": [
    "#LOGISTIC REGRESSION\n",
    "\n",
    "from sklearn.linear_model import LogisticRegression\n",
    "from sklearn.metrics import accuracy_score, classification_report\n",
    "\n",
    "# Initialize and train\n",
    "lr = LogisticRegression(max_iter=1000,)\n",
    "\n",
    "lr.fit(X_train, y_train)\n",
    "\n",
    "# Predict on validation set\n",
    "y_pred = lr.predict(X_val)\n",
    "\n",
    "# Evaluate\n",
    "print(\"Accuracy:\", accuracy_score(y_val, y_pred))\n",
    "print(\"\\nClassification Report:\\n\", classification_report(y_val, y_pred))\n"
   ]
  },
  {
   "cell_type": "code",
   "execution_count": 58,
   "id": "81f7c9c0-9bbd-482b-9014-02e85df89316",
   "metadata": {},
   "outputs": [
    {
     "name": "stdout",
     "output_type": "stream",
     "text": [
      "Accuracy: 0.9606347268843455\n",
      "\n",
      "Classification Report:\n",
      "               precision    recall  f1-score   support\n",
      "\n",
      "           0       0.66      0.66      0.66       379\n",
      "           1       0.98      0.98      0.98      6175\n",
      "\n",
      "    accuracy                           0.96      6554\n",
      "   macro avg       0.82      0.82      0.82      6554\n",
      "weighted avg       0.96      0.96      0.96      6554\n",
      "\n"
     ]
    }
   ],
   "source": [
    "#DECISION TREE\n",
    "\n",
    "from sklearn.tree import DecisionTreeClassifier\n",
    "from sklearn.metrics import accuracy_score, classification_report\n",
    "\n",
    "# Initialize and train\n",
    "dt = DecisionTreeClassifier(random_state=42)\n",
    "dt.fit(X_train, y_train)\n",
    "\n",
    "# Predict on validation set\n",
    "y_pred_dt = dt.predict(X_val)\n",
    "\n",
    "# Evaluate\n",
    "print(\"Accuracy:\", accuracy_score(y_val, y_pred_dt))\n",
    "print(\"\\nClassification Report:\\n\", classification_report(y_val, y_pred_dt))\n"
   ]
  },
  {
   "cell_type": "code",
   "execution_count": 59,
   "id": "5e6d776d-6e95-4391-87f6-bc3f901a8c2d",
   "metadata": {},
   "outputs": [
    {
     "name": "stdout",
     "output_type": "stream",
     "text": [
      "Requirement already satisfied: xgboost in c:\\users\\shrey\\miniconda3\\lib\\site-packages (3.0.2)\n",
      "Requirement already satisfied: numpy in c:\\users\\shrey\\miniconda3\\lib\\site-packages (from xgboost) (2.3.0)\n",
      "Requirement already satisfied: scipy in c:\\users\\shrey\\miniconda3\\lib\\site-packages (from xgboost) (1.15.3)\n",
      "Note: you may need to restart the kernel to use updated packages.\n"
     ]
    }
   ],
   "source": [
    "pip install xgboost\n"
   ]
  },
  {
   "cell_type": "code",
   "execution_count": 61,
   "id": "437933bf-8d59-464b-b1c1-3a10b42c364e",
   "metadata": {},
   "outputs": [
    {
     "name": "stderr",
     "output_type": "stream",
     "text": [
      "C:\\Users\\shrey\\miniconda3\\Lib\\site-packages\\xgboost\\training.py:183: UserWarning: [12:32:51] WARNING: C:\\actions-runner\\_work\\xgboost\\xgboost\\src\\learner.cc:738: \n",
      "Parameters: { \"use_label_encoder\" } are not used.\n",
      "\n",
      "  bst.update(dtrain, iteration=i, fobj=obj)\n"
     ]
    },
    {
     "name": "stdout",
     "output_type": "stream",
     "text": [
      "Accuracy: 0.9711626487641135\n",
      "\n",
      "Classification Report:\n",
      "               precision    recall  f1-score   support\n",
      "\n",
      "           0       0.78      0.70      0.74       379\n",
      "           1       0.98      0.99      0.98      6175\n",
      "\n",
      "    accuracy                           0.97      6554\n",
      "   macro avg       0.88      0.84      0.86      6554\n",
      "weighted avg       0.97      0.97      0.97      6554\n",
      "\n"
     ]
    }
   ],
   "source": [
    "#XGBOOST\n",
    "\n",
    "from xgboost import XGBClassifier\n",
    "from sklearn.metrics import accuracy_score, classification_report\n",
    "\n",
    "# Initialize XGBoost\n",
    "xgb = XGBClassifier(\n",
    "    use_label_encoder=False,\n",
    "    eval_metric='logloss',\n",
    "    random_state=42\n",
    ")\n",
    "\n",
    "# Train\n",
    "xgb.fit(X_train, y_train)\n",
    "\n",
    "# Predict\n",
    "y_pred_xgb = xgb.predict(X_val)\n",
    "\n",
    "# Evaluate\n",
    "print(\"Accuracy:\", accuracy_score(y_val, y_pred_xgb))\n",
    "print(\"\\nClassification Report:\\n\", classification_report(y_val, y_pred_xgb))\n"
   ]
  },
  {
   "cell_type": "code",
   "execution_count": 62,
   "id": "24cf5009-5502-4e65-9f8c-b52780272808",
   "metadata": {},
   "outputs": [
    {
     "name": "stdout",
     "output_type": "stream",
     "text": [
      "Collecting shap\n",
      "  Downloading shap-0.48.0-cp313-cp313-win_amd64.whl.metadata (25 kB)\n",
      "Requirement already satisfied: numpy in c:\\users\\shrey\\miniconda3\\lib\\site-packages (from shap) (2.3.0)\n",
      "Requirement already satisfied: scipy in c:\\users\\shrey\\miniconda3\\lib\\site-packages (from shap) (1.15.3)\n",
      "Requirement already satisfied: scikit-learn in c:\\users\\shrey\\miniconda3\\lib\\site-packages (from shap) (1.7.0)\n",
      "Requirement already satisfied: pandas in c:\\users\\shrey\\miniconda3\\lib\\site-packages (from shap) (2.3.0)\n",
      "Requirement already satisfied: tqdm>=4.27.0 in c:\\users\\shrey\\miniconda3\\lib\\site-packages (from shap) (4.67.1)\n",
      "Requirement already satisfied: packaging>20.9 in c:\\users\\shrey\\miniconda3\\lib\\site-packages (from shap) (24.2)\n",
      "Collecting slicer==0.0.8 (from shap)\n",
      "  Downloading slicer-0.0.8-py3-none-any.whl.metadata (4.0 kB)\n",
      "Collecting numba>=0.54 (from shap)\n",
      "  Downloading numba-0.61.2-cp313-cp313-win_amd64.whl.metadata (2.8 kB)\n",
      "Collecting cloudpickle (from shap)\n",
      "  Downloading cloudpickle-3.1.1-py3-none-any.whl.metadata (7.1 kB)\n",
      "Requirement already satisfied: typing-extensions in c:\\users\\shrey\\miniconda3\\lib\\site-packages (from shap) (4.12.2)\n",
      "Collecting llvmlite<0.45,>=0.44.0dev0 (from numba>=0.54->shap)\n",
      "  Downloading llvmlite-0.44.0-cp313-cp313-win_amd64.whl.metadata (5.0 kB)\n",
      "Collecting numpy (from shap)\n",
      "  Downloading numpy-2.2.6-cp313-cp313-win_amd64.whl.metadata (60 kB)\n",
      "Requirement already satisfied: colorama in c:\\users\\shrey\\miniconda3\\lib\\site-packages (from tqdm>=4.27.0->shap) (0.4.6)\n",
      "Requirement already satisfied: python-dateutil>=2.8.2 in c:\\users\\shrey\\miniconda3\\lib\\site-packages (from pandas->shap) (2.9.0.post0)\n",
      "Requirement already satisfied: pytz>=2020.1 in c:\\users\\shrey\\miniconda3\\lib\\site-packages (from pandas->shap) (2025.2)\n",
      "Requirement already satisfied: tzdata>=2022.7 in c:\\users\\shrey\\miniconda3\\lib\\site-packages (from pandas->shap) (2025.2)\n",
      "Requirement already satisfied: joblib>=1.2.0 in c:\\users\\shrey\\miniconda3\\lib\\site-packages (from scikit-learn->shap) (1.5.1)\n",
      "Requirement already satisfied: threadpoolctl>=3.1.0 in c:\\users\\shrey\\miniconda3\\lib\\site-packages (from scikit-learn->shap) (3.6.0)\n",
      "Requirement already satisfied: six>=1.5 in c:\\users\\shrey\\miniconda3\\lib\\site-packages (from python-dateutil>=2.8.2->pandas->shap) (1.17.0)\n",
      "Downloading shap-0.48.0-cp313-cp313-win_amd64.whl (545 kB)\n",
      "   ---------------------------------------- 0.0/545.1 kB ? eta -:--:--\n",
      "   -------------------------------------- - 524.3/545.1 kB 2.6 MB/s eta 0:00:01\n",
      "   ---------------------------------------- 545.1/545.1 kB 2.2 MB/s eta 0:00:00\n",
      "Downloading slicer-0.0.8-py3-none-any.whl (15 kB)\n",
      "Downloading numba-0.61.2-cp313-cp313-win_amd64.whl (2.8 MB)\n",
      "   ---------------------------------------- 0.0/2.8 MB ? eta -:--:--\n",
      "   ---------------------- ----------------- 1.6/2.8 MB 8.5 MB/s eta 0:00:01\n",
      "   ---------------------------------------- 2.8/2.8 MB 7.4 MB/s eta 0:00:00\n",
      "Downloading numpy-2.2.6-cp313-cp313-win_amd64.whl (12.6 MB)\n",
      "   ---------------------------------------- 0.0/12.6 MB ? eta -:--:--\n",
      "   - -------------------------------------- 0.5/12.6 MB 115.5 MB/s eta 0:00:01\n",
      "   ------------ --------------------------- 3.9/12.6 MB 9.0 MB/s eta 0:00:01\n",
      "   ---------------- ----------------------- 5.2/12.6 MB 8.9 MB/s eta 0:00:01\n",
      "   ---------------- ----------------------- 5.2/12.6 MB 8.9 MB/s eta 0:00:01\n",
      "   --------------------- ------------------ 6.8/12.6 MB 6.2 MB/s eta 0:00:01\n",
      "   -------------------------- ------------- 8.4/12.6 MB 6.4 MB/s eta 0:00:01\n",
      "   ------------------------------- -------- 10.0/12.6 MB 6.6 MB/s eta 0:00:01\n",
      "   ------------------------------------ --- 11.5/12.6 MB 6.9 MB/s eta 0:00:01\n",
      "   ---------------------------------------- 12.6/12.6 MB 6.6 MB/s eta 0:00:00\n",
      "Downloading cloudpickle-3.1.1-py3-none-any.whl (20 kB)\n",
      "Downloading llvmlite-0.44.0-cp313-cp313-win_amd64.whl (30.3 MB)\n",
      "   ---------------------------------------- 0.0/30.3 MB ? eta -:--:--\n",
      "   - -------------------------------------- 1.3/30.3 MB 5.6 MB/s eta 0:00:06\n",
      "   --- ------------------------------------ 2.6/30.3 MB 5.9 MB/s eta 0:00:05\n",
      "   ---- ----------------------------------- 3.1/30.3 MB 4.8 MB/s eta 0:00:06\n",
      "   ---- ----------------------------------- 3.7/30.3 MB 4.1 MB/s eta 0:00:07\n",
      "   ----- ---------------------------------- 4.2/30.3 MB 3.8 MB/s eta 0:00:07\n",
      "   ------ --------------------------------- 5.2/30.3 MB 3.9 MB/s eta 0:00:07\n",
      "   -------- ------------------------------- 6.8/30.3 MB 4.4 MB/s eta 0:00:06\n",
      "   ---------- ----------------------------- 8.1/30.3 MB 4.6 MB/s eta 0:00:05\n",
      "   ----------- ---------------------------- 8.9/30.3 MB 4.6 MB/s eta 0:00:05\n",
      "   ------------ --------------------------- 9.7/30.3 MB 4.5 MB/s eta 0:00:05\n",
      "   ------------- -------------------------- 10.5/30.3 MB 4.3 MB/s eta 0:00:05\n",
      "   --------------- ------------------------ 11.5/30.3 MB 4.4 MB/s eta 0:00:05\n",
      "   ---------------- ----------------------- 12.3/30.3 MB 4.4 MB/s eta 0:00:05\n",
      "   ----------------- ---------------------- 13.4/30.3 MB 4.4 MB/s eta 0:00:04\n",
      "   ------------------- -------------------- 14.4/30.3 MB 4.4 MB/s eta 0:00:04\n",
      "   -------------------- ------------------- 15.7/30.3 MB 4.5 MB/s eta 0:00:04\n",
      "   --------------------- ------------------ 16.5/30.3 MB 4.5 MB/s eta 0:00:04\n",
      "   ---------------------- ----------------- 17.0/30.3 MB 4.3 MB/s eta 0:00:04\n",
      "   ---------------------- ----------------- 17.3/30.3 MB 4.3 MB/s eta 0:00:04\n",
      "   ----------------------- ---------------- 18.1/30.3 MB 4.2 MB/s eta 0:00:03\n",
      "   ------------------------- -------------- 19.7/30.3 MB 4.3 MB/s eta 0:00:03\n",
      "   ---------------------------- ----------- 21.2/30.3 MB 4.4 MB/s eta 0:00:03\n",
      "   ------------------------------ --------- 22.8/30.3 MB 4.6 MB/s eta 0:00:02\n",
      "   ------------------------------- -------- 23.9/30.3 MB 4.6 MB/s eta 0:00:02\n",
      "   -------------------------------- ------- 24.6/30.3 MB 4.6 MB/s eta 0:00:02\n",
      "   --------------------------------- ------ 25.4/30.3 MB 4.5 MB/s eta 0:00:02\n",
      "   ----------------------------------- ---- 27.0/30.3 MB 4.6 MB/s eta 0:00:01\n",
      "   ------------------------------------- -- 28.3/30.3 MB 4.7 MB/s eta 0:00:01\n",
      "   ---------------------------------------  29.9/30.3 MB 4.8 MB/s eta 0:00:01\n",
      "   ---------------------------------------- 30.3/30.3 MB 4.7 MB/s eta 0:00:00\n",
      "Installing collected packages: slicer, numpy, llvmlite, cloudpickle, numba, shap\n",
      "  Attempting uninstall: numpy\n",
      "    Found existing installation: numpy 2.3.0\n",
      "    Uninstalling numpy-2.3.0:\n",
      "      Successfully uninstalled numpy-2.3.0\n",
      "Successfully installed cloudpickle-3.1.1 llvmlite-0.44.0 numba-0.61.2 numpy-2.2.6 shap-0.48.0 slicer-0.0.8\n",
      "Note: you may need to restart the kernel to use updated packages.\n"
     ]
    },
    {
     "name": "stderr",
     "output_type": "stream",
     "text": [
      "  WARNING: Failed to remove contents in a temporary directory 'C:\\Users\\shrey\\miniconda3\\Lib\\site-packages\\~umpy.libs'.\n",
      "  You can safely remove it manually.\n",
      "  WARNING: Failed to remove contents in a temporary directory 'C:\\Users\\shrey\\miniconda3\\Lib\\site-packages\\~umpy'.\n",
      "  You can safely remove it manually.\n"
     ]
    }
   ],
   "source": [
    "pip install shap\n"
   ]
  },
  {
   "cell_type": "code",
   "execution_count": 64,
   "id": "167c7361-d6df-480e-ac87-b679e8d076ef",
   "metadata": {},
   "outputs": [
    {
     "name": "stdout",
     "output_type": "stream",
     "text": [
      "                              Model  Class 0 Recall  Class 0 Precision  \\\n",
      "0  Logistic Regression (no weights)            0.29               0.63   \n",
      "1    Logistic Regression (balanced)            0.89               0.38   \n",
      "2                     Decision Tree            0.66               0.66   \n",
      "3                           XGBoost            0.70               0.78   \n",
      "\n",
      "   Accuracy  \n",
      "0     0.949  \n",
      "1     0.908  \n",
      "2     0.960  \n",
      "3     0.971  \n"
     ]
    }
   ],
   "source": [
    "import pandas as pd\n",
    "\n",
    "results = {\n",
    "    'Model': [\n",
    "        'Logistic Regression (no weights)',\n",
    "        'Logistic Regression (balanced)',\n",
    "        'Decision Tree',\n",
    "        'XGBoost'\n",
    "    ],\n",
    "    'Class 0 Recall': [0.29, 0.89, 0.66, 0.70],\n",
    "    'Class 0 Precision': [0.63, 0.38, 0.66, 0.78],\n",
    "    'Accuracy': [0.949, 0.908, 0.960, 0.971]\n",
    "}\n",
    "\n",
    "df_results = pd.DataFrame(results)\n",
    "print(df_results)\n"
   ]
  },
  {
   "cell_type": "code",
   "execution_count": 65,
   "id": "42c0ecab-fecf-488b-b3a4-673099763852",
   "metadata": {},
   "outputs": [
    {
     "name": "stdout",
     "output_type": "stream",
     "text": [
      "Train Accuracy: 0.9903871829105474\n",
      "\n",
      "Train Report:\n",
      "               precision    recall  f1-score   support\n",
      "\n",
      "           0       0.94      0.89      0.91      1518\n",
      "           1       0.99      1.00      0.99     24697\n",
      "\n",
      "    accuracy                           0.99     26215\n",
      "   macro avg       0.97      0.94      0.95     26215\n",
      "weighted avg       0.99      0.99      0.99     26215\n",
      "\n"
     ]
    }
   ],
   "source": [
    "# For XGBoost\n",
    "from sklearn.metrics import accuracy_score, classification_report\n",
    "\n",
    "y_train_pred = xgb.predict(X_train)\n",
    "print(\"Train Accuracy:\", accuracy_score(y_train, y_train_pred))\n",
    "print(\"\\nTrain Report:\\n\", classification_report(y_train, y_train_pred))\n"
   ]
  },
  {
   "cell_type": "code",
   "execution_count": 67,
   "id": "2fd1c650-2fd0-496f-8c33-4132d8798efb",
   "metadata": {},
   "outputs": [
    {
     "name": "stdout",
     "output_type": "stream",
     "text": [
      "Best Params: {'C': 1, 'class_weight': 'balanced', 'penalty': 'l2', 'solver': 'lbfgs'}\n",
      "Best Score: 0.7443376010456157\n"
     ]
    }
   ],
   "source": [
    "#HyperParameter tuning\n",
    "#LOG REGRESSION\n",
    "from sklearn.model_selection import GridSearchCV\n",
    "from sklearn.linear_model import LogisticRegression\n",
    "\n",
    "param_grid = {\n",
    "    'C': [0.01, 0.1, 1, 10],\n",
    "    'penalty': ['l2'],  # l1 requires solver='liblinear'\n",
    "    'solver': ['lbfgs'],\n",
    "    'class_weight': ['balanced']\n",
    "}\n",
    "\n",
    "grid = GridSearchCV(LogisticRegression(max_iter=1000), param_grid, cv=5, scoring='f1_macro')\n",
    "grid.fit(X_train, y_train)\n",
    "\n",
    "print(\"Best Params:\", grid.best_params_)\n",
    "print(\"Best Score:\", grid.best_score_)\n"
   ]
  },
  {
   "cell_type": "code",
   "execution_count": 68,
   "id": "2ebd644d-d845-4fe6-8633-3acc78485a24",
   "metadata": {},
   "outputs": [
    {
     "name": "stdout",
     "output_type": "stream",
     "text": [
      "Best Params: {'class_weight': None, 'criterion': 'gini', 'max_depth': 10, 'min_samples_split': 5}\n"
     ]
    }
   ],
   "source": [
    "#Decision Trees\n",
    "from sklearn.tree import DecisionTreeClassifier\n",
    "\n",
    "param_grid = {\n",
    "    'max_depth': [5, 10, 15, 20, None],\n",
    "    'min_samples_split': [2, 5, 10],\n",
    "    'criterion': ['gini', 'entropy'],\n",
    "    'class_weight': [None, 'balanced']\n",
    "}\n",
    "\n",
    "grid = GridSearchCV(DecisionTreeClassifier(), param_grid, cv=5, scoring='f1_macro')\n",
    "grid.fit(X_train, y_train)\n",
    "\n",
    "print(\"Best Params:\", grid.best_params_)\n"
   ]
  },
  {
   "cell_type": "code",
   "execution_count": 72,
   "id": "dc21b81f-93c8-4edb-9343-87d366d1377a",
   "metadata": {
    "scrolled": true
   },
   "outputs": [
    {
     "name": "stdout",
     "output_type": "stream",
     "text": [
      "Fitting 5 folds for each of 20 candidates, totalling 100 fits\n",
      "Best Params: {'subsample': 0.8, 'scale_pos_weight': 1, 'n_estimators': 200, 'max_depth': 5, 'learning_rate': 0.1, 'colsample_bytree': 0.6}\n"
     ]
    }
   ],
   "source": [
    "#XGBoost(using RandomizedSearchCV)\n",
    "\n",
    "from xgboost import XGBClassifier\n",
    "from sklearn.model_selection import RandomizedSearchCV\n",
    "\n",
    "# Hyperparameter grid\n",
    "param_dist = {\n",
    "    'n_estimators': [100, 200, 300],\n",
    "    'learning_rate': [0.01, 0.1, 0.2],\n",
    "    'max_depth': [3, 5, 7],\n",
    "    'subsample': [0.6, 0.8, 1.0],\n",
    "    'colsample_bytree': [0.6, 0.8, 1.0],\n",
    "    'scale_pos_weight': [1, 3, 5]  # imbalance handling\n",
    "}\n",
    "\n",
    "# Randomized search with the estimator included ✅\n",
    "random_search = RandomizedSearchCV(\n",
    "    estimator=XGBClassifier(eval_metric='logloss'),  # ✅ THIS WAS MISSING\n",
    "    param_distributions=param_dist,\n",
    "    n_iter=20,\n",
    "    cv=5,\n",
    "    scoring='f1_macro',\n",
    "    random_state=42,\n",
    "    verbose=1,  # Optional: shows progress in console\n",
    "    n_jobs=-1   # Optional: use all CPU cores for speed\n",
    ")\n",
    "\n",
    "# Fit the model\n",
    "random_search.fit(X_train, y_train)\n",
    "\n",
    "# Print the best found parameters\n",
    "print(\"Best Params:\", random_search.best_params_)\n"
   ]
  },
  {
   "cell_type": "code",
   "execution_count": 73,
   "id": "263f6e11-ddd9-401e-9f88-609ab441895f",
   "metadata": {},
   "outputs": [
    {
     "name": "stdout",
     "output_type": "stream",
     "text": [
      "✅ Model saved as xgboost_best_model.pkl\n"
     ]
    }
   ],
   "source": [
    "import pickle\n",
    "\n",
    "# Save the best estimator to a file\n",
    "with open(\"xgboost_best_model.pkl\", \"wb\") as f:\n",
    "    pickle.dump(random_search.best_estimator_, f)\n",
    "\n",
    "print(\"✅ Model saved as xgboost_best_model.pkl\")\n"
   ]
  },
  {
   "cell_type": "code",
   "execution_count": 76,
   "id": "e1e2846d-ebd9-4864-8ab7-04e3c06aec5f",
   "metadata": {},
   "outputs": [
    {
     "name": "stdout",
     "output_type": "stream",
     "text": [
      "✅ Model saved as decision_tree_model.pkl\n"
     ]
    }
   ],
   "source": [
    "import pickle\n",
    "\n",
    "with open(\"decision_tree_model.pkl\", \"wb\") as f:\n",
    "    pickle.dump(dt, f)\n",
    "\n",
    "print(\"✅ Model saved as decision_tree_model.pkl\")\n"
   ]
  },
  {
   "cell_type": "code",
   "execution_count": 77,
   "id": "11dd011e-861d-4ef3-8972-7ddd815b241a",
   "metadata": {},
   "outputs": [
    {
     "name": "stdout",
     "output_type": "stream",
     "text": [
      "✅ Model saved as log_regression_model.pkl\n"
     ]
    }
   ],
   "source": [
    "import pickle\n",
    "\n",
    "with open(\"logistic_regression_model.pkl\", \"wb\") as f:\n",
    "    pickle.dump(lr, f)\n",
    "    \n",
    "print(\"✅ Model saved as log_regression_model.pkl\")"
   ]
  },
  {
   "cell_type": "code",
   "execution_count": 78,
   "id": "53f1f55e-3ed6-4250-900c-86aea698cef4",
   "metadata": {},
   "outputs": [
    {
     "name": "stderr",
     "output_type": "stream",
     "text": [
      "C:\\Users\\shrey\\AppData\\Local\\Temp\\ipykernel_2228\\1587534324.py:19: UserWarning: Glyph 128202 (\\N{BAR CHART}) missing from font(s) DejaVu Sans.\n",
      "  plt.tight_layout()\n",
      "C:\\Users\\shrey\\AppData\\Local\\Temp\\ipykernel_2228\\1587534324.py:20: UserWarning: Glyph 128202 (\\N{BAR CHART}) missing from font(s) DejaVu Sans.\n",
      "  plt.savefig(\"outputs/decision_tree_feature_importance.png\")\n",
      "C:\\Users\\shrey\\miniconda3\\Lib\\site-packages\\IPython\\core\\pylabtools.py:170: UserWarning: Glyph 128202 (\\N{BAR CHART}) missing from font(s) DejaVu Sans.\n",
      "  fig.canvas.print_figure(bytes_io, **kw)\n"
     ]
    },
    {
     "name": "stdout",
     "output_type": "stream",
     "text": [
      "✅ Decision Tree feature importance plot saved.\n"
     ]
    },
    {
     "data": {
      "image/png": "[encoded data removed]",
      "text/plain": [
       "<Figure size 1000x600 with 1 Axes>"
      ]
     },
     "metadata": {},
     "output_type": "display_data"
    }
   ],
   "source": [
    "import matplotlib.pyplot as plt\n",
    "import pandas as pd\n",
    "import numpy as np\n",
    "\n",
    "# Get feature importances\n",
    "importances = dt.feature_importances_\n",
    "\n",
    "# Create DataFrame\n",
    "feature_names = X_train.columns  # or provide your list of column names\n",
    "feat_imp = pd.DataFrame({'Feature': feature_names, 'Importance': importances})\n",
    "feat_imp = feat_imp.sort_values(by='Importance', ascending=False)\n",
    "\n",
    "# Plot\n",
    "plt.figure(figsize=(10, 6))\n",
    "plt.barh(feat_imp['Feature'], feat_imp['Importance'])\n",
    "plt.gca().invert_yaxis()\n",
    "plt.title(\"📊 Decision Tree Feature Importances\")\n",
    "plt.xlabel(\"Importance Score\")\n",
    "plt.tight_layout()\n",
    "plt.savefig(\"outputs/decision_tree_feature_importance.png\")\n",
    "print(\"✅ Decision Tree feature importance plot saved.\")\n"
   ]
  },
  {
   "cell_type": "code",
   "execution_count": 83,
   "id": "f241b522-d834-4d6a-be88-1ff07da320b5",
   "metadata": {},
   "outputs": [],
   "source": [
    "xgb_model = random_search.best_estimator_\n"
   ]
  },
  {
   "cell_type": "code",
   "execution_count": 85,
   "id": "db10879b-6c85-4d14-864c-78ff4819f416",
   "metadata": {},
   "outputs": [
    {
     "name": "stdout",
     "output_type": "stream",
     "text": [
      "✅ XGBoost feature importance plot saved.\n"
     ]
    },
    {
     "name": "stderr",
     "output_type": "stream",
     "text": [
      "C:\\Users\\shrey\\AppData\\Local\\Temp\\ipykernel_2228\\2744452026.py:21: UserWarning: Glyph 128202 (\\N{BAR CHART}) missing from font(s) DejaVu Sans.\n",
      "  plt.tight_layout()\n",
      "C:\\Users\\shrey\\AppData\\Local\\Temp\\ipykernel_2228\\2744452026.py:22: UserWarning: Glyph 128202 (\\N{BAR CHART}) missing from font(s) DejaVu Sans.\n",
      "  plt.savefig(\"outputs/xgboost_feature_importance.png\")\n"
     ]
    },
    {
     "data": {
      "image/png": "[encoded data removed]",
      "text/plain": [
       "<Figure size 1000x600 with 1 Axes>"
      ]
     },
     "metadata": {},
     "output_type": "display_data"
    }
   ],
   "source": [
    "import pandas as pd\n",
    "import matplotlib.pyplot as plt\n",
    "\n",
    "# ✅ Fix: Assign best model from RandomizedSearchCV\n",
    "xgb_model = random_search.best_estimator_\n",
    "\n",
    "# Extract feature importances\n",
    "xgb_importances = xgb_model.feature_importances_\n",
    "feature_names = X_train.columns  # make sure X_train is a DataFrame\n",
    "\n",
    "# Create DataFrame\n",
    "feat_imp = pd.DataFrame({'Feature': feature_names, 'Importance': xgb_importances})\n",
    "feat_imp = feat_imp.sort_values(by='Importance', ascending=False)\n",
    "\n",
    "# Plot\n",
    "plt.figure(figsize=(10, 6))\n",
    "plt.barh(feat_imp['Feature'], feat_imp['Importance'])\n",
    "plt.gca().invert_yaxis()\n",
    "plt.title(\"📊 XGBoost Feature Importances\")\n",
    "plt.xlabel(\"Importance Score\")\n",
    "plt.tight_layout()\n",
    "plt.savefig(\"outputs/xgboost_feature_importance.png\")\n",
    "print(\"✅ XGBoost feature importance plot saved.\")\n"
   ]
  },
  {
   "cell_type": "code",
   "execution_count": null,
   "id": "9dd51367-6fbe-406f-ab50-b144aca0c5e2",
   "metadata": {},
   "outputs": [],
   "source": []
  }
 ],
 "metadata": {
  "kernelspec": {
   "display_name": "Python 3 (ipykernel)",
   "language": "python",
   "name": "python3"
  },
  "language_info": {
   "codemirror_mode": {
    "name": "ipython",
    "version": 3
   },
   "file_extension": ".py",
   "mimetype": "text/x-python",
   "name": "python",
   "nbconvert_exporter": "python",
   "pygments_lexer": "ipython3",
   "version": "3.13.2"
  }
 },
 "nbformat": 4,
 "nbformat_minor": 5
}
